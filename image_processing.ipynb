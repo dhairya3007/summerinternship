{
  "nbformat": 4,
  "nbformat_minor": 0,
  "metadata": {
    "colab": {
      "provenance": []
    },
    "kernelspec": {
      "name": "python3",
      "display_name": "Python 3"
    },
    "language_info": {
      "name": "python"
    }
  },
  "cells": [
    {
      "cell_type": "code",
      "source": [
        "import requests\n",
        "from google.colab import files\n",
        "\n",
        "# Prompt input\n",
        "prompt = input(\"Enter a prompt to generate an image: \")\n",
        "\n",
        "# Replace with your actual Stability AI API key\n",
        "api_key = \"sk-J3N17rWoW6Kw0rsiCCATpzA1BqSA3TKTtCUC7CXQJbDX1DBk\"\n",
        "\n",
        "# API endpoint\n",
        "url = \"https://api.stability.ai/v2beta/stable-image/generate/core\"\n",
        "\n",
        "# Request headers\n",
        "headers = {\n",
        "    \"Authorization\": f\"Bearer {api_key}\",\n",
        "    \"Accept\": \"image/*\"\n",
        "}\n",
        "\n",
        "# Form data\n",
        "files_payload = {\n",
        "    \"prompt\": (None, prompt),\n",
        "    \"output_format\": (None, \"png\"),\n",
        "}\n",
        "\n",
        "# Send POST request\n",
        "response = requests.post(url, headers=headers, files=files_payload)\n",
        "\n",
        "# Save and trigger download\n",
        "if response.status_code == 200:\n",
        "    filename = \"generated_image.png\"\n",
        "    with open(filename, \"wb\") as f:\n",
        "        f.write(response.content)\n",
        "    print(f\"✅ Image saved as {filename}\")\n",
        "\n",
        "    # This triggers a real download in Colab\n",
        "    files.download(filename)\n",
        "\n",
        "else:\n",
        "    print(\"❌ Failed to generate image:\", response.status_code)\n",
        "    print(response.text)\n"
      ],
      "metadata": {
        "colab": {
          "base_uri": "https://localhost:8080/",
          "height": 54
        },
        "id": "J9LMoO_i9k8O",
        "outputId": "28eb3e6c-fa83-486c-ef3a-59abfae47c7d"
      },
      "execution_count": 14,
      "outputs": [
        {
          "output_type": "stream",
          "name": "stdout",
          "text": [
            "Enter a prompt to generate an image: lion\n",
            "✅ Image saved as generated_image.png\n"
          ]
        },
        {
          "output_type": "display_data",
          "data": {
            "text/plain": [
              "<IPython.core.display.Javascript object>"
            ],
            "application/javascript": [
              "\n",
              "    async function download(id, filename, size) {\n",
              "      if (!google.colab.kernel.accessAllowed) {\n",
              "        return;\n",
              "      }\n",
              "      const div = document.createElement('div');\n",
              "      const label = document.createElement('label');\n",
              "      label.textContent = `Downloading \"${filename}\": `;\n",
              "      div.appendChild(label);\n",
              "      const progress = document.createElement('progress');\n",
              "      progress.max = size;\n",
              "      div.appendChild(progress);\n",
              "      document.body.appendChild(div);\n",
              "\n",
              "      const buffers = [];\n",
              "      let downloaded = 0;\n",
              "\n",
              "      const channel = await google.colab.kernel.comms.open(id);\n",
              "      // Send a message to notify the kernel that we're ready.\n",
              "      channel.send({})\n",
              "\n",
              "      for await (const message of channel.messages) {\n",
              "        // Send a message to notify the kernel that we're ready.\n",
              "        channel.send({})\n",
              "        if (message.buffers) {\n",
              "          for (const buffer of message.buffers) {\n",
              "            buffers.push(buffer);\n",
              "            downloaded += buffer.byteLength;\n",
              "            progress.value = downloaded;\n",
              "          }\n",
              "        }\n",
              "      }\n",
              "      const blob = new Blob(buffers, {type: 'application/binary'});\n",
              "      const a = document.createElement('a');\n",
              "      a.href = window.URL.createObjectURL(blob);\n",
              "      a.download = filename;\n",
              "      div.appendChild(a);\n",
              "      a.click();\n",
              "      div.remove();\n",
              "    }\n",
              "  "
            ]
          },
          "metadata": {}
        },
        {
          "output_type": "display_data",
          "data": {
            "text/plain": [
              "<IPython.core.display.Javascript object>"
            ],
            "application/javascript": [
              "download(\"download_cd2765f5-1f28-4d45-9010-9c5f52f707a0\", \"generated_image.png\", 4210139)"
            ]
          },
          "metadata": {}
        }
      ]
    }
  ]
}